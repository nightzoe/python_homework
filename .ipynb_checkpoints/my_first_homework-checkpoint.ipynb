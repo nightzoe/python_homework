{
 "cells": [
  {
   "cell_type": "markdown",
   "id": "59b4ea87-b7b3-488a-947b-39db62c7d5ca",
   "metadata": {},
   "source": [
    "นายสราวุธ พลคำ\n",
    "\n",
    "เลขที่18 6712732118"
   ]
  },
  {
   "cell_type": "code",
   "execution_count": 1,
   "id": "a64a9b5c-c591-4dba-a9a0-45306a18338f",
   "metadata": {},
   "outputs": [
    {
     "name": "stdout",
     "output_type": "stream",
     "text": [
      "hello,Word\n"
     ]
    }
   ],
   "source": [
    "print(\"hello,Word\")"
   ]
  },
  {
   "cell_type": "code",
   "execution_count": null,
   "id": "8d56e3cb-0dfe-4cab-9b27-bcdf194066fa",
   "metadata": {},
   "outputs": [],
   "source": []
  }
 ],
 "metadata": {
  "kernelspec": {
   "display_name": "Python 3 (ipykernel)",
   "language": "python",
   "name": "python3"
  },
  "language_info": {
   "codemirror_mode": {
    "name": "ipython",
    "version": 3
   },
   "file_extension": ".py",
   "mimetype": "text/x-python",
   "name": "python",
   "nbconvert_exporter": "python",
   "pygments_lexer": "ipython3",
   "version": "3.13.0"
  }
 },
 "nbformat": 4,
 "nbformat_minor": 5
}

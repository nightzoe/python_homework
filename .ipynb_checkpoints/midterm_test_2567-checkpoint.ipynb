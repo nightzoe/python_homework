{
 "cells": [
  {
   "cell_type": "markdown",
   "id": "b4cd3c02-e219-467d-adec-0d0a11d9e29e",
   "metadata": {},
   "source": [
    "# แบบทดสอบวัดความรู้การเขียนโปรแกรมด้วยภาษาไพธอน"
   ]
  },
  {
   "cell_type": "markdown",
   "id": "2948a9b0-c1d7-4eb5-8838-176acb70778c",
   "metadata": {},
   "source": [
    "### ประจำปีการศึกษา 2/2567\n",
    "### ผู้สอนโดย ผู้ช่วยศาสตราจารย์พิศาล สุขขี"
   ]
  },
  {
   "cell_type": "markdown",
   "id": "52214a89-8cc2-4989-a334-22c91d155e91",
   "metadata": {},
   "source": [
    "ชื่อ สราวุธ นามสกุล พลคำ รหัสนักศึกษา 6712732118"
   ]
  },
  {
   "cell_type": "markdown",
   "id": "be66bdec-8ff3-48b3-8f81-16887b231bf6",
   "metadata": {},
   "source": [
    "### จงแทนนิพจน์ทางคณิตศาสตร์เหล่านี้้ด้วยภาษาไพทอน"
   ]
  },
  {
   "cell_type": "markdown",
   "id": "f52fc4e7-4075-4953-af9b-23cb0761aa42",
   "metadata": {},
   "source": [
    "**ข้อที่ 1.** $ 7 \\times \\frac{5 + 6}{7 + \\frac{7}{8}} $"
   ]
  },
  {
   "cell_type": "code",
   "execution_count": 2,
   "id": "ae684192-9514-4bc3-adf4-f2527542b446",
   "metadata": {},
   "outputs": [
    {
     "data": {
      "text/plain": [
       "47.125"
      ]
     },
     "execution_count": 2,
     "metadata": {},
     "output_type": "execute_result"
    }
   ],
   "source": [
    "# คำตอบ\n",
    "import math\n",
    "7* (5+6 / 7+7/8)\n"
   ]
  },
  {
   "cell_type": "markdown",
   "id": "ad7eab25-da54-49b4-8b7e-4e008c957f2c",
   "metadata": {},
   "source": [
    "<hr>"
   ]
  },
  {
   "cell_type": "markdown",
   "id": "bf31fe17-6a86-4b14-b1a4-119e656994d3",
   "metadata": {},
   "source": [
    "**ข้อที่ 2** $ \\sqrt[2]{\\left( 7 + 3 \\times 4 \\right)} $"
   ]
  },
  {
   "cell_type": "code",
   "execution_count": 3,
   "id": "f8e9bb53-b34a-4897-b01b-2c62e7191229",
   "metadata": {},
   "outputs": [
    {
     "data": {
      "text/plain": [
       "4.358898943540674"
      ]
     },
     "execution_count": 3,
     "metadata": {},
     "output_type": "execute_result"
    }
   ],
   "source": [
    "# คำตอบ\n",
    "(7+3*4)**(1/2)\n",
    "\n"
   ]
  },
  {
   "cell_type": "markdown",
   "id": "1e60345a-875c-460a-87d1-7659462f3919",
   "metadata": {},
   "source": [
    "<hr>"
   ]
  },
  {
   "cell_type": "markdown",
   "id": "7fd2caaa-e462-4ff5-ad81-dc761fc31caa",
   "metadata": {},
   "source": [
    "**ข้อที่ 3** $ \\frac{5 + 6^{2.5}}{\\sqrt[2]{3.5}} + 3^2 $"
   ]
  },
  {
   "cell_type": "code",
   "execution_count": 4,
   "id": "e4cf0da4-4b79-45e9-887b-3ddeef89a876",
   "metadata": {},
   "outputs": [
    {
     "data": {
      "text/plain": [
       "61.135064290974356"
      ]
     },
     "execution_count": 4,
     "metadata": {},
     "output_type": "execute_result"
    }
   ],
   "source": [
    "# คำตอบ\n",
    "(5+6**2.5/3.5**(1/2))+3**2\n"
   ]
  },
  {
   "cell_type": "markdown",
   "id": "7380cd6f-cdfd-4373-a313-f1d548c90893",
   "metadata": {},
   "source": [
    "<hr>"
   ]
  },
  {
   "cell_type": "markdown",
   "id": "e07fd3e9-2c77-41bc-8c89-a475cc25380c",
   "metadata": {},
   "source": [
    "## แบบทดสอบวัดความรู้เรื่องชนิดข้อมูล"
   ]
  },
  {
   "cell_type": "markdown",
   "id": "5ed88a95-692d-4097-9124-0b882a274e89",
   "metadata": {},
   "source": [
    "**ข้อที่ 4** กำหนดให้ my_list = [1, 2, 3, 4, 5] \n",
    "\n",
    "จงเพิ่มค่าให้สมาชิกทุกตัวของลิสต์ในตัวแปร my_list อย่างละ 5 ด้วยเครื่องหมาย + และพิมพ์ตัวแปร my_list ออกหน้าจอ"
   ]
  },
  {
   "cell_type": "code",
   "execution_count": 17,
   "id": "4b3cdf62-47dd-432c-94d8-920877ed601f",
   "metadata": {},
   "outputs": [
    {
     "name": "stdout",
     "output_type": "stream",
     "text": [
      "[6, 7, 8, 9, 10]\n"
     ]
    }
   ],
   "source": [
    "# คำตอบ\n",
    "lt= [1, 2, 3, 4, 5]\n",
    "lt = [x + 5 for x in lt]\n",
    "print(lt)"
   ]
  },
  {
   "cell_type": "markdown",
   "id": "04c4827d-d43b-46b6-b3f6-6bc1ca41d456",
   "metadata": {},
   "source": [
    "<hr>"
   ]
  },
  {
   "cell_type": "markdown",
   "id": "081469f7-a509-4adf-ab7e-99c1a8911544",
   "metadata": {},
   "source": [
    "**กำหนดให้ my_list = [10, 20, 30, 40, 50, 60, 70, 80, 90, 100]**"
   ]
  },
  {
   "cell_type": "markdown",
   "id": "bb579639-1d63-4d2a-9b74-b813d8b98986",
   "metadata": {},
   "source": [
    "**ข้อที่ 5** จงเลือกสมาชิกตัวที่ 3 จนถึงตัวที่ 7"
   ]
  },
  {
   "cell_type": "code",
   "execution_count": 14,
   "id": "e281249d-7687-479e-a122-f4d0fed7240f",
   "metadata": {},
   "outputs": [
    {
     "data": {
      "text/plain": [
       "[40, 50, 60, 70, 80]"
      ]
     },
     "execution_count": 14,
     "metadata": {},
     "output_type": "execute_result"
    }
   ],
   "source": [
    "# คำตอบ\n",
    "lt= [10, 20, 30, 40, 50, 60, 70, 80, 90, 100]\n",
    "lt [3:8]"
   ]
  },
  {
   "cell_type": "markdown",
   "id": "c06cf69b-9947-4140-8732-a6dc514e3361",
   "metadata": {},
   "source": [
    "<hr>"
   ]
  },
  {
   "cell_type": "markdown",
   "id": "a50dbda6-a551-49e6-a784-6062c60de14f",
   "metadata": {},
   "source": [
    "**ข้อที่ 6** จงเลือกสมาชิกตัวที่ 2 จนถึงตัวที่ 5"
   ]
  },
  {
   "cell_type": "code",
   "execution_count": 15,
   "id": "4fd57dc3-5498-48ec-a80f-e5be91ce4640",
   "metadata": {},
   "outputs": [
    {
     "data": {
      "text/plain": [
       "[30, 40, 50, 60]"
      ]
     },
     "execution_count": 15,
     "metadata": {},
     "output_type": "execute_result"
    }
   ],
   "source": [
    "# คำตอบ\n",
    "lt= [10, 20, 30, 40, 50, 60, 70, 80, 90, 100]\n",
    "lt[2:6]"
   ]
  },
  {
   "cell_type": "markdown",
   "id": "0a2fd1c3-239f-48f5-92f5-80d2e19b0d45",
   "metadata": {},
   "source": [
    "<hr>"
   ]
  },
  {
   "cell_type": "markdown",
   "id": "67828813-a498-4478-956e-845b1f62ed4c",
   "metadata": {},
   "source": [
    "**ข้อที่ 7** จงเลือกสมาชิกตั้งแต่ตัวแรกจนถึงตัวที่ 8"
   ]
  },
  {
   "cell_type": "code",
   "execution_count": 16,
   "id": "129d32c4-7b44-435e-a92b-23e5feac1859",
   "metadata": {},
   "outputs": [
    {
     "data": {
      "text/plain": [
       "[10, 20, 30, 40, 50, 60, 70, 80, 90]"
      ]
     },
     "execution_count": 16,
     "metadata": {},
     "output_type": "execute_result"
    }
   ],
   "source": [
    "# คำตอบ\n",
    "lt= [10, 20, 30, 40, 50, 60, 70, 80, 90, 100]\n",
    "lt [0:9]"
   ]
  },
  {
   "cell_type": "markdown",
   "id": "79855b21-4fe5-4782-a539-d6dee869df79",
   "metadata": {},
   "source": [
    "<hr>"
   ]
  },
  {
   "cell_type": "markdown",
   "id": "e55c59d1-fe52-409e-a94a-69da2d908435",
   "metadata": {},
   "source": [
    "### แบบทดสอบวัดความรู้เรื่อง โครงสร้างควบคุม"
   ]
  },
  {
   "cell_type": "markdown",
   "id": "3ba6d469-0fc6-4be2-ae54-e9a27ddff5ad",
   "metadata": {},
   "source": [
    "**ข้อที่ 8** จงวนลูปเพื่อแสดงสูตรคูณแม่ 3 ไล่ตั้งแต่  3×1  จนถึง  3×12  โดยจะได้ผลลัพธ์ดังนี้"
   ]
  },
  {
   "cell_type": "raw",
   "id": "e1006360-f7c1-4c05-911a-bf224af4e1c6",
   "metadata": {},
   "source": [
    "3 * 1 = 3\n",
    "3 * 2 = 6\n",
    "3 * 3 = 9\n",
    ":\n",
    ":\n",
    ":\n",
    "3 * 12 = 36"
   ]
  },
  {
   "cell_type": "code",
   "execution_count": 18,
   "id": "0cb5d448-e014-4b0a-902f-b49d43bddae7",
   "metadata": {},
   "outputs": [
    {
     "name": "stdout",
     "output_type": "stream",
     "text": [
      "3 × 1 = 3\n",
      "3 × 2 = 6\n",
      "3 × 3 = 9\n",
      "3 × 4 = 12\n",
      "3 × 5 = 15\n",
      "3 × 6 = 18\n",
      "3 × 7 = 21\n",
      "3 × 8 = 24\n",
      "3 × 9 = 27\n",
      "3 × 10 = 30\n",
      "3 × 11 = 33\n",
      "3 × 12 = 36\n"
     ]
    }
   ],
   "source": [
    "# วนลูปค่า index i จาก 1 ถึง 12\n",
    "for i in range(1, 13):\n",
    "    print(f\"3 × {i} = {3 * i}\")"
   ]
  },
  {
   "cell_type": "markdown",
   "id": "9d459c25-7c17-4977-8d05-261ebadb2248",
   "metadata": {},
   "source": [
    "<hr>"
   ]
  },
  {
   "cell_type": "markdown",
   "id": "46c978fe-6fa5-4fdf-bf3c-aacf1220c120",
   "metadata": {},
   "source": [
    "**ข้อที่ 9** จงเขียนโปรแกรมเพื่อไล่แม่สูตรคูณจากแม่ 11 ถึงแม่ 15 โดยแต่ละแม่จะคูณกับตัวเลขตั้งแต่ 1 จนถึง 12"
   ]
  },
  {
   "cell_type": "code",
   "execution_count": 22,
   "id": "6dae5b1e-e315-4c27-b136-6334a99f908a",
   "metadata": {},
   "outputs": [
    {
     "name": "stdout",
     "output_type": "stream",
     "text": [
      "11 × 1 = 11, 12 × 1 = 12, 13 × 1 = 13, 14 × 1 = 14, 15 × 1 = 15\n",
      "11 × 2 = 22, 12 × 2 = 24, 13 × 2 = 26, 14 × 2 = 28, 15 × 2 = 30\n",
      "11 × 3 = 33, 12 × 3 = 36, 13 × 3 = 39, 14 × 3 = 42, 15 × 3 = 45\n",
      "11 × 4 = 44, 12 × 4 = 48, 13 × 4 = 52, 14 × 4 = 56, 15 × 4 = 60\n",
      "11 × 5 = 55, 12 × 5 = 60, 13 × 5 = 65, 14 × 5 = 70, 15 × 5 = 75\n",
      "11 × 6 = 66, 12 × 6 = 72, 13 × 6 = 78, 14 × 6 = 84, 15 × 6 = 90\n",
      "11 × 7 = 77, 12 × 7 = 84, 13 × 7 = 91, 14 × 7 = 98, 15 × 7 = 105\n",
      "11 × 8 = 88, 12 × 8 = 96, 13 × 8 = 104, 14 × 8 = 112, 15 × 8 = 120\n",
      "11 × 9 = 99, 12 × 9 = 108, 13 × 9 = 117, 14 × 9 = 126, 15 × 9 = 135\n",
      "11 × 10 = 110, 12 × 10 = 120, 13 × 10 = 130, 14 × 10 = 140, 15 × 10 = 150\n",
      "11 × 11 = 121, 12 × 11 = 132, 13 × 11 = 143, 14 × 11 = 154, 15 × 11 = 165\n",
      "11 × 12 = 132, 12 × 12 = 144, 13 × 12 = 156, 14 × 12 = 168, 15 × 12 = 180\n"
     ]
    }
   ],
   "source": [
    "# วนลูป index m เพื่อไล่แม่สูตรคูณจากแม่ 11 ถึงแม่ 15\n",
    "for i in range(1, 13):\n",
    "    print(f\"11 × {i} = {11 * i}\",end=\", \")\n",
    "    print(f\"12 × {i} = {12 * i}\",end=\", \")\n",
    "    print(f\"13 × {i} = {13 * i}\",end=\", \")\n",
    "    print(f\"14 × {i} = {14 * i}\",end=\", \")\n",
    "    print(f\"15 × {i} = {15 * i}\",)"
   ]
  },
  {
   "cell_type": "markdown",
   "id": "944d0114-976b-4e32-8ae8-f6b9c81953ca",
   "metadata": {},
   "source": [
    "<hr>"
   ]
  },
  {
   "cell_type": "markdown",
   "id": "55ee2850-c0d9-4a78-83fc-55f7f55f783b",
   "metadata": {},
   "source": [
    "**ข้อที่ 10** จงเขียนโปรแกรมเพื่อให้ได้ผลลัพธ์ดังต่อไปนี้"
   ]
  },
  {
   "cell_type": "markdown",
   "id": "c99a3635-0310-4b83-8306-86e03265e7cc",
   "metadata": {},
   "source": [
    "จงเขียนฟังก์ชันที่ทำหน้าที่กลับสตริงจากหน้าเป็นหลัง \n",
    "\n",
    "โดยมีการส่งอาร์กิวเมนต์ที่เป็นสติงไปให้ฟังก์ชันทำงาน เช่น"
   ]
  },
  {
   "cell_type": "code",
   "execution_count": null,
   "id": "29d46902-f6f1-40fb-ba1f-1ba3ea104d95",
   "metadata": {},
   "outputs": [],
   "source": [
    "\"\"\"\n",
    "Argument String: \"1234abcd\"\n",
    "Expected Output: \"dcba4321\"\n",
    "\"\"\""
   ]
  },
  {
   "cell_type": "code",
   "execution_count": 29,
   "id": "4a931ad9-f8e8-4643-b127-01194b81f0a6",
   "metadata": {},
   "outputs": [
    {
     "name": "stdout",
     "output_type": "stream",
     "text": [
      "Original Str: 1234abcd\n",
      "Reversed Str: dcba4321\n"
     ]
    }
   ],
   "source": [
    "# คำตอบ\n",
    "# ฟังก์ชันสำหรับกลับสตริง\n",
    "def reverse_string(input_str):\n",
    "    return input_str[::-1]\n",
    "argument_str = \"1234abcd\"\n",
    "reversed_str = reverse_string(argument_str)\n",
    "print(\"Original Str:\", argument_str)\n",
    "print(\"Reversed Str:\", reversed_str)\n",
    "\n",
    "\n"
   ]
  },
  {
   "cell_type": "markdown",
   "id": "9959fdd7-5ea8-493a-a4d5-263fd067834e",
   "metadata": {},
   "source": [
    "<hr>"
   ]
  },
  {
   "cell_type": "markdown",
   "id": "55e4c0f5-4d9e-4f04-81b7-f86a816562a2",
   "metadata": {},
   "source": [
    "**ข้่อที่ 11** กำหนดให้\n",
    "\n",
    "str = \"Python Programming\"\n",
    "\n",
    "จงเขียนโปรแกรมที่แสดงผลเฉพาะคำว่า Programming จาก str"
   ]
  },
  {
   "cell_type": "code",
   "execution_count": 30,
   "id": "42c24d42-f4ad-475c-87ca-a30640696a62",
   "metadata": {},
   "outputs": [
    {
     "name": "stdout",
     "output_type": "stream",
     "text": [
      ": Programming\n"
     ]
    }
   ],
   "source": [
    "# คำตอบ\n",
    "text = \"Python Programming\"\n",
    "result = text[7:]\n",
    "print(\":\", result)\n",
    "\n"
   ]
  },
  {
   "cell_type": "markdown",
   "id": "bb011ab0-a672-4fd8-af97-a39d341a57cb",
   "metadata": {},
   "source": [
    "<hr>"
   ]
  },
  {
   "cell_type": "markdown",
   "id": "3ccd220e-b02d-4324-8a13-9a360ce1bdb0",
   "metadata": {},
   "source": [
    "**ข้อที่ 12** ให้ทำการแสดงเลขคู่ทั้งหมดที่อยู่ในช่วง 1 - 100"
   ]
  },
  {
   "cell_type": "code",
   "execution_count": 26,
   "id": "b27af344-cb7b-4464-bba1-817e71de8ff1",
   "metadata": {},
   "outputs": [
    {
     "name": "stdout",
     "output_type": "stream",
     "text": [
      "[2, 4, 6, 8, 10, 12, 14, 16, 18, 20, 22, 24, 26, 28, 30, 32, 34, 36, 38, 40, 42, 44, 46, 48, 50, 52, 54, 56, 58, 60, 62, 64, 66, 68, 70, 72, 74, 76, 78, 80, 82, 84, 86, 88, 90, 92, 94, 96, 98, 100]\n"
     ]
    }
   ],
   "source": [
    "# คำตอบ\n",
    "num = [num for num in range(1, 101) if num % 2 == 0]\n",
    "print(num)"
   ]
  },
  {
   "cell_type": "markdown",
   "id": "1b5c99ad-29d4-4587-ae27-e7d64c8c3f08",
   "metadata": {},
   "source": [
    "<hr>"
   ]
  },
  {
   "cell_type": "markdown",
   "id": "12043275-7256-4a53-8722-b3573b5301e8",
   "metadata": {},
   "source": [
    "**ข้อที่ 13** ให้เขียนโปรแกรม เพื่อรับจำนวนหรือตัวเลขเข้ามาจากคีย์บอร์ด และตรวจสอบว่าจำนวนที่รับเข้ามานั้นมีค่าต่ำกว่า 100 หรือไม่ "
   ]
  },
  {
   "cell_type": "code",
   "execution_count": 36,
   "id": "d0e2279f-340d-461c-b5d8-5bdaa1f9661f",
   "metadata": {},
   "outputs": [
    {
     "name": "stdin",
     "output_type": "stream",
     "text": [
      "enter a number:  120\n"
     ]
    },
    {
     "name": "stdout",
     "output_type": "stream",
     "text": [
      " 120.0 >100\n"
     ]
    }
   ],
   "source": [
    "# คำตอบ\n",
    "# รับตัวเลขจากคีย์บอร์ด\n",
    "num = float(input(\"enter a number: \"))\n",
    "if num < 100:\n",
    "    print(f\" {num} <100\")\n",
    "else:\n",
    "    print(f\" {num} >100\")\n",
    "\n"
   ]
  },
  {
   "cell_type": "markdown",
   "id": "313cfeb9-3413-4a11-a2da-c201785b064c",
   "metadata": {},
   "source": [
    "<hr />"
   ]
  },
  {
   "cell_type": "markdown",
   "id": "ebe25b48-312b-4513-84c8-d90acc72cc14",
   "metadata": {},
   "source": [
    "**ข้อที่ 14** ให้เขียนโปรแกรม เพื่อคำนวนหาผลรวมของตัวเลขในช่วง 1 ถึง 100"
   ]
  },
  {
   "cell_type": "code",
   "execution_count": 5,
   "id": "f49ea3e1-2226-4373-94d7-a45735b127df",
   "metadata": {},
   "outputs": [
    {
     "name": "stdout",
     "output_type": "stream",
     "text": [
      "5050\n"
     ]
    }
   ],
   "source": [
    "# คำตอบ\n",
    "num= (range(1,101))\n",
    "sum=0\n",
    "for val in num:\n",
    "    sum+=val\n",
    "print(sum)\n"
   ]
  },
  {
   "cell_type": "markdown",
   "id": "22f81c78-bc0e-48d7-84e2-4e58e6aff8a5",
   "metadata": {},
   "source": [
    "<hr>"
   ]
  },
  {
   "cell_type": "markdown",
   "id": "76ab1c2e-4564-4994-a3ff-ec874fe0ea46",
   "metadata": {},
   "source": [
    "**ข้อที่ 15** ให้เขียนโปรแกรม เพื่อแสดงเลขคี่ ของตัวเลขในช่วง 1 ถึง 100"
   ]
  },
  {
   "cell_type": "code",
   "execution_count": 23,
   "id": "bed94210-1f07-4e10-b31c-09913b54d967",
   "metadata": {},
   "outputs": [
    {
     "name": "stdout",
     "output_type": "stream",
     "text": [
      "[1, 3, 5, 7, 9, 11, 13, 15, 17, 19, 21, 23, 25, 27, 29, 31, 33, 35, 37, 39, 41, 43, 45, 47, 49, 51, 53, 55, 57, 59, 61, 63, 65, 67, 69, 71, 73, 75, 77, 79, 81, 83, 85, 87, 89, 91, 93, 95, 97, 99]\n"
     ]
    }
   ],
   "source": [
    "# คำตอบ\n",
    "# แสดงเลขคี่ในช่วง 1 ถึง 100\n",
    "num = [num for num in range(1, 101) if num % 2 != 0]\n",
    "print(num)\n",
    "\n"
   ]
  },
  {
   "cell_type": "code",
   "execution_count": null,
   "id": "3154a6e4-6301-4833-9eb4-e91803bbbf9a",
   "metadata": {},
   "outputs": [],
   "source": []
  }
 ],
 "metadata": {
  "kernelspec": {
   "display_name": "Python 3 (ipykernel)",
   "language": "python",
   "name": "python3"
  },
  "language_info": {
   "codemirror_mode": {
    "name": "ipython",
    "version": 3
   },
   "file_extension": ".py",
   "mimetype": "text/x-python",
   "name": "python",
   "nbconvert_exporter": "python",
   "pygments_lexer": "ipython3",
   "version": "3.13.0"
  }
 },
 "nbformat": 4,
 "nbformat_minor": 5
}
